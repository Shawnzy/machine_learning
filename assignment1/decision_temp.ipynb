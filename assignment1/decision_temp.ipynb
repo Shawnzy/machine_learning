{
 "cells": [
  {
   "cell_type": "code",
   "execution_count": 49,
   "metadata": {},
   "outputs": [],
   "source": [
    "# Import dependencies\n",
    "import timeit\n",
    "import pandas as pd\n",
    "import numpy as np\n",
    "import seaborn as sns\n",
    "import matplotlib.pyplot as plt"
   ]
  },
  {
   "cell_type": "code",
   "execution_count": 50,
   "metadata": {},
   "outputs": [
    {
     "name": "stdout",
     "output_type": "stream",
     "text": [
      "(7043, 21)\n"
     ]
    },
    {
     "data": {
      "text/html": [
       "<div>\n",
       "<style scoped>\n",
       "    .dataframe tbody tr th:only-of-type {\n",
       "        vertical-align: middle;\n",
       "    }\n",
       "\n",
       "    .dataframe tbody tr th {\n",
       "        vertical-align: top;\n",
       "    }\n",
       "\n",
       "    .dataframe thead th {\n",
       "        text-align: right;\n",
       "    }\n",
       "</style>\n",
       "<table border=\"1\" class=\"dataframe\">\n",
       "  <thead>\n",
       "    <tr style=\"text-align: right;\">\n",
       "      <th></th>\n",
       "      <th>customerID</th>\n",
       "      <th>gender</th>\n",
       "      <th>SeniorCitizen</th>\n",
       "      <th>Partner</th>\n",
       "      <th>Dependents</th>\n",
       "      <th>tenure</th>\n",
       "      <th>PhoneService</th>\n",
       "      <th>MultipleLines</th>\n",
       "      <th>InternetService</th>\n",
       "      <th>OnlineSecurity</th>\n",
       "      <th>...</th>\n",
       "      <th>DeviceProtection</th>\n",
       "      <th>TechSupport</th>\n",
       "      <th>StreamingTV</th>\n",
       "      <th>StreamingMovies</th>\n",
       "      <th>Contract</th>\n",
       "      <th>PaperlessBilling</th>\n",
       "      <th>PaymentMethod</th>\n",
       "      <th>MonthlyCharges</th>\n",
       "      <th>TotalCharges</th>\n",
       "      <th>Churn</th>\n",
       "    </tr>\n",
       "  </thead>\n",
       "  <tbody>\n",
       "    <tr>\n",
       "      <th>0</th>\n",
       "      <td>7590-VHVEG</td>\n",
       "      <td>Female</td>\n",
       "      <td>0</td>\n",
       "      <td>Yes</td>\n",
       "      <td>No</td>\n",
       "      <td>1</td>\n",
       "      <td>No</td>\n",
       "      <td>No phone service</td>\n",
       "      <td>DSL</td>\n",
       "      <td>No</td>\n",
       "      <td>...</td>\n",
       "      <td>No</td>\n",
       "      <td>No</td>\n",
       "      <td>No</td>\n",
       "      <td>No</td>\n",
       "      <td>Month-to-month</td>\n",
       "      <td>Yes</td>\n",
       "      <td>Electronic check</td>\n",
       "      <td>29.85</td>\n",
       "      <td>29.85</td>\n",
       "      <td>No</td>\n",
       "    </tr>\n",
       "    <tr>\n",
       "      <th>1</th>\n",
       "      <td>5575-GNVDE</td>\n",
       "      <td>Male</td>\n",
       "      <td>0</td>\n",
       "      <td>No</td>\n",
       "      <td>No</td>\n",
       "      <td>34</td>\n",
       "      <td>Yes</td>\n",
       "      <td>No</td>\n",
       "      <td>DSL</td>\n",
       "      <td>Yes</td>\n",
       "      <td>...</td>\n",
       "      <td>Yes</td>\n",
       "      <td>No</td>\n",
       "      <td>No</td>\n",
       "      <td>No</td>\n",
       "      <td>One year</td>\n",
       "      <td>No</td>\n",
       "      <td>Mailed check</td>\n",
       "      <td>56.95</td>\n",
       "      <td>1889.5</td>\n",
       "      <td>No</td>\n",
       "    </tr>\n",
       "    <tr>\n",
       "      <th>2</th>\n",
       "      <td>3668-QPYBK</td>\n",
       "      <td>Male</td>\n",
       "      <td>0</td>\n",
       "      <td>No</td>\n",
       "      <td>No</td>\n",
       "      <td>2</td>\n",
       "      <td>Yes</td>\n",
       "      <td>No</td>\n",
       "      <td>DSL</td>\n",
       "      <td>Yes</td>\n",
       "      <td>...</td>\n",
       "      <td>No</td>\n",
       "      <td>No</td>\n",
       "      <td>No</td>\n",
       "      <td>No</td>\n",
       "      <td>Month-to-month</td>\n",
       "      <td>Yes</td>\n",
       "      <td>Mailed check</td>\n",
       "      <td>53.85</td>\n",
       "      <td>108.15</td>\n",
       "      <td>Yes</td>\n",
       "    </tr>\n",
       "    <tr>\n",
       "      <th>3</th>\n",
       "      <td>7795-CFOCW</td>\n",
       "      <td>Male</td>\n",
       "      <td>0</td>\n",
       "      <td>No</td>\n",
       "      <td>No</td>\n",
       "      <td>45</td>\n",
       "      <td>No</td>\n",
       "      <td>No phone service</td>\n",
       "      <td>DSL</td>\n",
       "      <td>Yes</td>\n",
       "      <td>...</td>\n",
       "      <td>Yes</td>\n",
       "      <td>Yes</td>\n",
       "      <td>No</td>\n",
       "      <td>No</td>\n",
       "      <td>One year</td>\n",
       "      <td>No</td>\n",
       "      <td>Bank transfer (automatic)</td>\n",
       "      <td>42.30</td>\n",
       "      <td>1840.75</td>\n",
       "      <td>No</td>\n",
       "    </tr>\n",
       "    <tr>\n",
       "      <th>4</th>\n",
       "      <td>9237-HQITU</td>\n",
       "      <td>Female</td>\n",
       "      <td>0</td>\n",
       "      <td>No</td>\n",
       "      <td>No</td>\n",
       "      <td>2</td>\n",
       "      <td>Yes</td>\n",
       "      <td>No</td>\n",
       "      <td>Fiber optic</td>\n",
       "      <td>No</td>\n",
       "      <td>...</td>\n",
       "      <td>No</td>\n",
       "      <td>No</td>\n",
       "      <td>No</td>\n",
       "      <td>No</td>\n",
       "      <td>Month-to-month</td>\n",
       "      <td>Yes</td>\n",
       "      <td>Electronic check</td>\n",
       "      <td>70.70</td>\n",
       "      <td>151.65</td>\n",
       "      <td>Yes</td>\n",
       "    </tr>\n",
       "  </tbody>\n",
       "</table>\n",
       "<p>5 rows × 21 columns</p>\n",
       "</div>"
      ],
      "text/plain": [
       "   customerID  gender  SeniorCitizen Partner Dependents  tenure PhoneService  \\\n",
       "0  7590-VHVEG  Female              0     Yes         No       1           No   \n",
       "1  5575-GNVDE    Male              0      No         No      34          Yes   \n",
       "2  3668-QPYBK    Male              0      No         No       2          Yes   \n",
       "3  7795-CFOCW    Male              0      No         No      45           No   \n",
       "4  9237-HQITU  Female              0      No         No       2          Yes   \n",
       "\n",
       "      MultipleLines InternetService OnlineSecurity  ...  DeviceProtection  \\\n",
       "0  No phone service             DSL             No  ...                No   \n",
       "1                No             DSL            Yes  ...               Yes   \n",
       "2                No             DSL            Yes  ...                No   \n",
       "3  No phone service             DSL            Yes  ...               Yes   \n",
       "4                No     Fiber optic             No  ...                No   \n",
       "\n",
       "  TechSupport StreamingTV StreamingMovies        Contract PaperlessBilling  \\\n",
       "0          No          No              No  Month-to-month              Yes   \n",
       "1          No          No              No        One year               No   \n",
       "2          No          No              No  Month-to-month              Yes   \n",
       "3         Yes          No              No        One year               No   \n",
       "4          No          No              No  Month-to-month              Yes   \n",
       "\n",
       "               PaymentMethod MonthlyCharges  TotalCharges Churn  \n",
       "0           Electronic check          29.85         29.85    No  \n",
       "1               Mailed check          56.95        1889.5    No  \n",
       "2               Mailed check          53.85        108.15   Yes  \n",
       "3  Bank transfer (automatic)          42.30       1840.75    No  \n",
       "4           Electronic check          70.70        151.65   Yes  \n",
       "\n",
       "[5 rows x 21 columns]"
      ]
     },
     "execution_count": 50,
     "metadata": {},
     "output_type": "execute_result"
    }
   ],
   "source": [
    "# Import Data\n",
    "main_file_path = '../data/data_customer.csv'\n",
    "data = pd.read_csv(main_file_path)\n",
    "\n",
    "print(data.shape)\n",
    "data.head()"
   ]
  },
  {
   "cell_type": "markdown",
   "metadata": {},
   "source": [
    "### Data Preprocessing"
   ]
  },
  {
   "cell_type": "code",
   "execution_count": 51,
   "metadata": {},
   "outputs": [
    {
     "data": {
      "text/plain": [
       "array(['customerID', 'gender', 'SeniorCitizen', 'Partner', 'Dependents',\n",
       "       'tenure', 'PhoneService', 'MultipleLines', 'InternetService',\n",
       "       'OnlineSecurity', 'OnlineBackup', 'DeviceProtection',\n",
       "       'TechSupport', 'StreamingTV', 'StreamingMovies', 'Contract',\n",
       "       'PaperlessBilling', 'PaymentMethod', 'MonthlyCharges',\n",
       "       'TotalCharges', 'Churn'], dtype=object)"
      ]
     },
     "execution_count": 51,
     "metadata": {},
     "output_type": "execute_result"
    }
   ],
   "source": [
    "# Display all column headers\n",
    "data.columns.values"
   ]
  },
  {
   "cell_type": "code",
   "execution_count": 52,
   "metadata": {},
   "outputs": [
    {
     "data": {
      "text/plain": [
       "customerID           object\n",
       "gender               object\n",
       "SeniorCitizen         int64\n",
       "Partner              object\n",
       "Dependents           object\n",
       "tenure                int64\n",
       "PhoneService         object\n",
       "MultipleLines        object\n",
       "InternetService      object\n",
       "OnlineSecurity       object\n",
       "OnlineBackup         object\n",
       "DeviceProtection     object\n",
       "TechSupport          object\n",
       "StreamingTV          object\n",
       "StreamingMovies      object\n",
       "Contract             object\n",
       "PaperlessBilling     object\n",
       "PaymentMethod        object\n",
       "MonthlyCharges      float64\n",
       "TotalCharges         object\n",
       "Churn                object\n",
       "dtype: object"
      ]
     },
     "execution_count": 52,
     "metadata": {},
     "output_type": "execute_result"
    }
   ],
   "source": [
    "# Display Data types of each column\n",
    "data.dtypes"
   ]
  },
  {
   "cell_type": "code",
   "execution_count": 53,
   "metadata": {},
   "outputs": [
    {
     "data": {
      "text/plain": [
       "customerID           0\n",
       "gender               0\n",
       "SeniorCitizen        0\n",
       "Partner              0\n",
       "Dependents           0\n",
       "tenure               0\n",
       "PhoneService         0\n",
       "MultipleLines        0\n",
       "InternetService      0\n",
       "OnlineSecurity       0\n",
       "OnlineBackup         0\n",
       "DeviceProtection     0\n",
       "TechSupport          0\n",
       "StreamingTV          0\n",
       "StreamingMovies      0\n",
       "Contract             0\n",
       "PaperlessBilling     0\n",
       "PaymentMethod        0\n",
       "MonthlyCharges       0\n",
       "TotalCharges        11\n",
       "Churn                0\n",
       "dtype: int64"
      ]
     },
     "execution_count": 53,
     "metadata": {},
     "output_type": "execute_result"
    }
   ],
   "source": [
    "# Variable TotalCharges should be a continuous numeric data type rather than a discrete object data type\n",
    "data.TotalCharges = pd.to_numeric(data.TotalCharges, errors='coerce')\n",
    "\n",
    "# Check for NULL entries\n",
    "data.isnull().sum()"
   ]
  },
  {
   "cell_type": "code",
   "execution_count": 54,
   "metadata": {},
   "outputs": [
    {
     "name": "stderr",
     "output_type": "stream",
     "text": [
      "/home/shawnzy/.virtualenvs/machine_learning/lib/python3.6/site-packages/pandas/core/generic.py:5890: SettingWithCopyWarning: \n",
      "A value is trying to be set on a copy of a slice from a DataFrame\n",
      "\n",
      "See the caveats in the documentation: http://pandas.pydata.org/pandas-docs/stable/indexing.html#indexing-view-versus-copy\n",
      "  self._update_inplace(new_data)\n"
     ]
    }
   ],
   "source": [
    "# Remove all entries that contain NULL\n",
    "data.dropna(inplace=True)\n",
    "\n",
    "# Remove customer ID\n",
    "df = data.iloc[:,1:]\n",
    "\n",
    "# Upsample\n",
    "#https://chrisalbon.com/machine_learning/preprocessing_structured_data/handling_imbalanced_classes_with_upsampling/\n",
    "# Indicies of each class' observations\n",
    "i_class0 = np.where(df.Churn == 'Yes')[0]\n",
    "i_class1 = np.where(df.Churn == 'No')[0]\n",
    "\n",
    "# Number of observations in each class\n",
    "n0 = len(i_class0)\n",
    "n1 = len(i_class1)\n",
    "\n",
    "# For every observation in class 1, randomly sample from class 0 with replacement\n",
    "i_class0_upsampled = np.random.choice(i_class0, size=n1, replace=True)\n",
    "\n",
    "# Join together class 0's upsampled target vector with class 1's target vector\n",
    "i_upsampled = np.concatenate((i_class0_upsampled, i_class1))\n",
    "df_upsampled = df.iloc[i_upsampled.tolist(),:]\n",
    "\n",
    "# Separate X and Y\n",
    "ydata = df_upsampled.Churn\n",
    "xdata_raw = df_upsampled.drop(['Churn'], axis=1)\n",
    "\n",
    "# Convert Chrun into binary numeric variable\n",
    "ydata.replace(to_replace='Yes', value=1, inplace=True)\n",
    "ydata.replace(to_replace='No', value=0, inplace=True)\n",
    "\n",
    "# Convert all categorial variables in xdata into dummy variables\n",
    "xdata = pd.get_dummies(xdata_raw)\n",
    "\n"
   ]
  },
  {
   "cell_type": "code",
   "execution_count": 55,
   "metadata": {},
   "outputs": [
    {
     "data": {
      "text/html": [
       "<div>\n",
       "<style scoped>\n",
       "    .dataframe tbody tr th:only-of-type {\n",
       "        vertical-align: middle;\n",
       "    }\n",
       "\n",
       "    .dataframe tbody tr th {\n",
       "        vertical-align: top;\n",
       "    }\n",
       "\n",
       "    .dataframe thead th {\n",
       "        text-align: right;\n",
       "    }\n",
       "</style>\n",
       "<table border=\"1\" class=\"dataframe\">\n",
       "  <thead>\n",
       "    <tr style=\"text-align: right;\">\n",
       "      <th></th>\n",
       "      <th>SeniorCitizen</th>\n",
       "      <th>tenure</th>\n",
       "      <th>MonthlyCharges</th>\n",
       "      <th>TotalCharges</th>\n",
       "      <th>gender_Female</th>\n",
       "      <th>gender_Male</th>\n",
       "      <th>Partner_No</th>\n",
       "      <th>Partner_Yes</th>\n",
       "      <th>Dependents_No</th>\n",
       "      <th>Dependents_Yes</th>\n",
       "      <th>...</th>\n",
       "      <th>StreamingMovies_Yes</th>\n",
       "      <th>Contract_Month-to-month</th>\n",
       "      <th>Contract_One year</th>\n",
       "      <th>Contract_Two year</th>\n",
       "      <th>PaperlessBilling_No</th>\n",
       "      <th>PaperlessBilling_Yes</th>\n",
       "      <th>PaymentMethod_Bank transfer (automatic)</th>\n",
       "      <th>PaymentMethod_Credit card (automatic)</th>\n",
       "      <th>PaymentMethod_Electronic check</th>\n",
       "      <th>PaymentMethod_Mailed check</th>\n",
       "    </tr>\n",
       "  </thead>\n",
       "  <tbody>\n",
       "    <tr>\n",
       "      <th>0</th>\n",
       "      <td>1.0</td>\n",
       "      <td>0.042254</td>\n",
       "      <td>0.660199</td>\n",
       "      <td>0.039384</td>\n",
       "      <td>1.0</td>\n",
       "      <td>0.0</td>\n",
       "      <td>1.0</td>\n",
       "      <td>0.0</td>\n",
       "      <td>1.0</td>\n",
       "      <td>0.0</td>\n",
       "      <td>...</td>\n",
       "      <td>1.0</td>\n",
       "      <td>1.0</td>\n",
       "      <td>0.0</td>\n",
       "      <td>0.0</td>\n",
       "      <td>0.0</td>\n",
       "      <td>1.0</td>\n",
       "      <td>0.0</td>\n",
       "      <td>0.0</td>\n",
       "      <td>1.0</td>\n",
       "      <td>0.0</td>\n",
       "    </tr>\n",
       "    <tr>\n",
       "      <th>1</th>\n",
       "      <td>0.0</td>\n",
       "      <td>0.042254</td>\n",
       "      <td>0.670647</td>\n",
       "      <td>0.034947</td>\n",
       "      <td>1.0</td>\n",
       "      <td>0.0</td>\n",
       "      <td>1.0</td>\n",
       "      <td>0.0</td>\n",
       "      <td>1.0</td>\n",
       "      <td>0.0</td>\n",
       "      <td>...</td>\n",
       "      <td>0.0</td>\n",
       "      <td>1.0</td>\n",
       "      <td>0.0</td>\n",
       "      <td>0.0</td>\n",
       "      <td>0.0</td>\n",
       "      <td>1.0</td>\n",
       "      <td>0.0</td>\n",
       "      <td>0.0</td>\n",
       "      <td>1.0</td>\n",
       "      <td>0.0</td>\n",
       "    </tr>\n",
       "    <tr>\n",
       "      <th>2</th>\n",
       "      <td>0.0</td>\n",
       "      <td>0.070423</td>\n",
       "      <td>0.649751</td>\n",
       "      <td>0.052937</td>\n",
       "      <td>0.0</td>\n",
       "      <td>1.0</td>\n",
       "      <td>0.0</td>\n",
       "      <td>1.0</td>\n",
       "      <td>0.0</td>\n",
       "      <td>1.0</td>\n",
       "      <td>...</td>\n",
       "      <td>1.0</td>\n",
       "      <td>1.0</td>\n",
       "      <td>0.0</td>\n",
       "      <td>0.0</td>\n",
       "      <td>0.0</td>\n",
       "      <td>1.0</td>\n",
       "      <td>0.0</td>\n",
       "      <td>1.0</td>\n",
       "      <td>0.0</td>\n",
       "      <td>0.0</td>\n",
       "    </tr>\n",
       "    <tr>\n",
       "      <th>3</th>\n",
       "      <td>1.0</td>\n",
       "      <td>0.000000</td>\n",
       "      <td>0.531343</td>\n",
       "      <td>0.006099</td>\n",
       "      <td>0.0</td>\n",
       "      <td>1.0</td>\n",
       "      <td>1.0</td>\n",
       "      <td>0.0</td>\n",
       "      <td>1.0</td>\n",
       "      <td>0.0</td>\n",
       "      <td>...</td>\n",
       "      <td>0.0</td>\n",
       "      <td>1.0</td>\n",
       "      <td>0.0</td>\n",
       "      <td>0.0</td>\n",
       "      <td>0.0</td>\n",
       "      <td>1.0</td>\n",
       "      <td>0.0</td>\n",
       "      <td>0.0</td>\n",
       "      <td>1.0</td>\n",
       "      <td>0.0</td>\n",
       "    </tr>\n",
       "    <tr>\n",
       "      <th>4</th>\n",
       "      <td>0.0</td>\n",
       "      <td>0.000000</td>\n",
       "      <td>0.506965</td>\n",
       "      <td>0.005816</td>\n",
       "      <td>1.0</td>\n",
       "      <td>0.0</td>\n",
       "      <td>1.0</td>\n",
       "      <td>0.0</td>\n",
       "      <td>1.0</td>\n",
       "      <td>0.0</td>\n",
       "      <td>...</td>\n",
       "      <td>0.0</td>\n",
       "      <td>1.0</td>\n",
       "      <td>0.0</td>\n",
       "      <td>0.0</td>\n",
       "      <td>0.0</td>\n",
       "      <td>1.0</td>\n",
       "      <td>0.0</td>\n",
       "      <td>0.0</td>\n",
       "      <td>1.0</td>\n",
       "      <td>0.0</td>\n",
       "    </tr>\n",
       "  </tbody>\n",
       "</table>\n",
       "<p>5 rows × 45 columns</p>\n",
       "</div>"
      ],
      "text/plain": [
       "   SeniorCitizen    tenure  MonthlyCharges  TotalCharges  gender_Female  \\\n",
       "0            1.0  0.042254        0.660199      0.039384            1.0   \n",
       "1            0.0  0.042254        0.670647      0.034947            1.0   \n",
       "2            0.0  0.070423        0.649751      0.052937            0.0   \n",
       "3            1.0  0.000000        0.531343      0.006099            0.0   \n",
       "4            0.0  0.000000        0.506965      0.005816            1.0   \n",
       "\n",
       "   gender_Male  Partner_No  Partner_Yes  Dependents_No  Dependents_Yes  \\\n",
       "0          0.0         1.0          0.0            1.0             0.0   \n",
       "1          0.0         1.0          0.0            1.0             0.0   \n",
       "2          1.0         0.0          1.0            0.0             1.0   \n",
       "3          1.0         1.0          0.0            1.0             0.0   \n",
       "4          0.0         1.0          0.0            1.0             0.0   \n",
       "\n",
       "              ...              StreamingMovies_Yes  Contract_Month-to-month  \\\n",
       "0             ...                              1.0                      1.0   \n",
       "1             ...                              0.0                      1.0   \n",
       "2             ...                              1.0                      1.0   \n",
       "3             ...                              0.0                      1.0   \n",
       "4             ...                              0.0                      1.0   \n",
       "\n",
       "   Contract_One year  Contract_Two year  PaperlessBilling_No  \\\n",
       "0                0.0                0.0                  0.0   \n",
       "1                0.0                0.0                  0.0   \n",
       "2                0.0                0.0                  0.0   \n",
       "3                0.0                0.0                  0.0   \n",
       "4                0.0                0.0                  0.0   \n",
       "\n",
       "   PaperlessBilling_Yes  PaymentMethod_Bank transfer (automatic)  \\\n",
       "0                   1.0                                      0.0   \n",
       "1                   1.0                                      0.0   \n",
       "2                   1.0                                      0.0   \n",
       "3                   1.0                                      0.0   \n",
       "4                   1.0                                      0.0   \n",
       "\n",
       "   PaymentMethod_Credit card (automatic)  PaymentMethod_Electronic check  \\\n",
       "0                                    0.0                             1.0   \n",
       "1                                    0.0                             1.0   \n",
       "2                                    1.0                             0.0   \n",
       "3                                    0.0                             1.0   \n",
       "4                                    0.0                             1.0   \n",
       "\n",
       "   PaymentMethod_Mailed check  \n",
       "0                         0.0  \n",
       "1                         0.0  \n",
       "2                         0.0  \n",
       "3                         0.0  \n",
       "4                         0.0  \n",
       "\n",
       "[5 rows x 45 columns]"
      ]
     },
     "execution_count": 55,
     "metadata": {},
     "output_type": "execute_result"
    }
   ],
   "source": [
    "# Scale all features from 0 to 1\n",
    "from sklearn.preprocessing import MinMaxScaler\n",
    "features = xdata.columns.values\n",
    "scaler = MinMaxScaler(feature_range = (0,1))\n",
    "scaler.fit(xdata)\n",
    "xdata = pd.DataFrame(scaler.transform(xdata))\n",
    "xdata.columns = features\n",
    "\n",
    "xdata.head()\n"
   ]
  },
  {
   "cell_type": "markdown",
   "metadata": {},
   "source": [
    "### Predictive Models"
   ]
  },
  {
   "cell_type": "code",
   "execution_count": 56,
   "metadata": {},
   "outputs": [],
   "source": [
    "# Split data into test and training sets\n",
    "from sklearn.model_selection import train_test_split\n",
    "from sklearn.metrics import accuracy_score, classification_report, confusion_matrix \n"
   ]
  },
  {
   "cell_type": "markdown",
   "metadata": {},
   "source": [
    "#### - Decision Tree\n",
    "Learning curve: # Train samples\n",
    "Complexity curve: Max_depth"
   ]
  },
  {
   "cell_type": "code",
   "execution_count": 57,
   "metadata": {},
   "outputs": [],
   "source": [
    "from sklearn.tree import DecisionTreeClassifier  \n",
    "from sklearn.metrics import roc_curve, auc\n",
    "\n",
    "def decision_tree(X_train, X_test, y_train, y_test, max_depth):\n",
    "    dtree = DecisionTreeClassifier(max_depth=5)  \n",
    "    \n",
    "    start_time = timeit.default_timer()\n",
    "    dtree.fit(X_train, y_train) \n",
    "    fit_time = timeit.default_timer() - start_time\n",
    "    \n",
    "    start_time1 = timeit.default_timer()\n",
    "    y_pred = dtree.predict(X_test)\n",
    "    pred_time = timeit.default_timer() - start_time1\n",
    "    \n",
    "    accuracy = accuracy_score(y_test, y_pred)\n",
    "    return accuracy, fit_time, pred_time"
   ]
  },
  {
   "cell_type": "code",
   "execution_count": 58,
   "metadata": {},
   "outputs": [
    {
     "data": {
      "image/png": "[encoded data removed]",
      "text/plain": [
       "<Figure size 432x288 with 1 Axes>"
      ]
     },
     "metadata": {
      "needs_background": "light"
     },
     "output_type": "display_data"
    },
    {
     "data": {
      "image/png": "[encoded data removed]",
      "text/plain": [
       "<Figure size 432x288 with 1 Axes>"
      ]
     },
     "metadata": {
      "needs_background": "light"
     },
     "output_type": "display_data"
    }
   ],
   "source": [
    "# Learning curve based off of number of Samples in training set\n",
    "test_percentages = [.1,.2,.3,.4,.5,.6,.7,.8,.9]\n",
    "train_percentages = [.9,.8,.7,.6,.5,.4,.3,.2,.1]\n",
    "train_results = []\n",
    "test_results = []\n",
    "fit_time_results = []\n",
    "pred_time_results = []\n",
    "for percent in test_percentages:\n",
    "    X_train, X_test, y_train, y_test = train_test_split(xdata, ydata, test_size=percent, random_state=101)\n",
    "    test_accuracy, test_fit_time, test_pred_time = decision_tree(X_train, X_test, y_train, y_test, max_depth=5)\n",
    "    test_results.append(test_accuracy)\n",
    "    fit_time_results.append(test_fit_time)\n",
    "    pred_time_results.append(test_pred_time)\n",
    "    \n",
    "    train_accuracy, train_fit_time, train_pred_time = decision_tree(X_train, X_train, y_train, y_train, max_depth=5)\n",
    "    train_results.append(train_accuracy)\n",
    "\n",
    "plt.figure(0)\n",
    "line1, = plt.plot(train_percentages, train_results, 'b')\n",
    "line2, = plt.plot(train_percentages, test_results, 'r')\n",
    "plt.ylabel('Accuracy')\n",
    "plt.xlabel('Percent of Dataset used for Training')\n",
    "plt.title('Decision Tree Learning Curve - Accuracy vs. Percent of Dataset used for training')\n",
    "plt.legend([\"Train Accuracy\",\"Test Accuracy\"])\n",
    "plt.show()\n",
    "\n",
    "plt.figure()\n",
    "plt.plot(train_percentages, fit_time_results, 'b')\n",
    "plt.plot(train_percentages, pred_time_results, 'r')\n",
    "plt.ylabel('Time (s)')\n",
    "plt.xlabel('Percent of Dataset used for Training')\n",
    "plt.title('Decision Tree Learning Curve - Computation Time vs. Percent of Dataset used for training')\n",
    "plt.legend([\"Fit Computational Time\", \"Pediction Computational Time\"])\n",
    "plt.show()"
   ]
  },
  {
   "cell_type": "code",
   "execution_count": 59,
   "metadata": {},
   "outputs": [
    {
     "data": {
      "image/png": "[encoded data removed]",
      "text/plain": [
       "<Figure size 432x288 with 1 Axes>"
      ]
     },
     "metadata": {
      "needs_background": "light"
     },
     "output_type": "display_data"
    },
    {
     "data": {
      "image/png": "[encoded data removed]",
      "text/plain": [
       "<Figure size 432x288 with 1 Axes>"
      ]
     },
     "metadata": {
      "needs_background": "light"
     },
     "output_type": "display_data"
    }
   ],
   "source": [
    "# Learning curve based off of number of Samples in training set\n",
    "depths = np.linspace(1, 132, 132, endpoint=True)\n",
    "train_results = []\n",
    "test_results = []\n",
    "fit_time_results = []\n",
    "pred_time_results = []\n",
    "X_train, X_test, y_train, y_test = train_test_split(xdata, ydata, test_size=.3, random_state=101)\n",
    "\n",
    "for depth in depths:\n",
    "    test_accuracy, test_fit_time, test_pred_time = decision_tree(X_train, X_test, y_train, y_test, max_depth=depth)\n",
    "    test_results.append(test_accuracy)\n",
    "    fit_time_results.append(test_fit_time)\n",
    "    pred_time_results.append(test_pred_time)\n",
    "    \n",
    "    train_accuracy, train_fit_time, train_pred_time = decision_tree(X_train, X_train, y_train, y_train, max_depth=depth)\n",
    "    train_results.append(train_accuracy)\n",
    "\n",
    "plt.figure(0)\n",
    "plt.plot(depths, train_results, 'b')\n",
    "plt.plot(depths, test_results, 'r')\n",
    "plt.ylabel('Accuracy')\n",
    "plt.xlabel('Max_depth')\n",
    "plt.title('Decision Tree Learning Curve - Accuracy vs. Max_depth')\n",
    "plt.legend([\"Train Accuracy\", \"Test Accuracy\"])\n",
    "plt.show()\n",
    "\n",
    "plt.figure(1)\n",
    "plt.plot(depths, fit_time_results, 'b', label=\"Fit Computational Time\")\n",
    "plt.plot(depths, pred_time_results, 'r', label=\"Prediction Computational Time\")\n",
    "plt.ylabel('Time (s)')\n",
    "plt.xlabel('Max_depth')\n",
    "plt.title('Decision Tree Learning Curve - Computation Time vs. Max_depth')\n",
    "plt.legend([\"Fit Computational Time\", \"Prediction Computational Time\"])\n",
    "plt.show()"
   ]
  },
  {
   "cell_type": "code",
   "execution_count": null,
   "metadata": {},
   "outputs": [],
   "source": [
    "def decision_tree_auc(X_train, X_test, y_train, y_test, max_depth):\n",
    "    dtree = DecisionTreeClassifier(max_depth=5)  \n",
    "    dtree.fit(X_train, y_train) \n",
    "    y_pred = dtree.predict(X_test)\n",
    "    false_positive_rate, true_positive_rate, thresholds = roc_curve(y_test, y_pred)\n",
    "    roc_auc = auc(false_positive_rate, true_positive_rate)\n",
    "    return roc_auc"
   ]
  },
  {
   "cell_type": "code",
   "execution_count": null,
   "metadata": {},
   "outputs": [],
   "source": [
    "# Learning curve based off of number of Samples in training set\n",
    "percentages = [.9,.8,.7,.6,.5,.4,.3,.2,.1]\n",
    "train_results = []\n",
    "test_results = []\n",
    "time_results = []\n",
    "for percent in percentages:\n",
    "    X_train, X_test, y_train, y_test = train_test_split(xdata, ydata, test_size=percent, random_state=101)\n",
    "    start_time = timeit.default_timer()\n",
    "    test_acc = decision_tree_auc(X_train, X_test, y_train, y_test, max_depth=5)\n",
    "    time_results.append(timeit.default_timer() - start_time)\n",
    "    test_results.append(test_acc)\n",
    "    train_results.append(decision_tree_auc(X_train, X_train, y_train, y_train, max_depth=5))\n",
    "\n",
    "plt.figure(0)\n",
    "line1, = plt.plot(precentages, train_results, 'b', label=\"Train Accuracy\")\n",
    "line2, = plt.plot(precentages, test_results, 'r', label=\"Test Accuracy\")\n",
    "plt.ylabel('Area under the curve')\n",
    "plt.xlabel('Percent of Dataset used for Training')\n",
    "plt.title('Decision Tree Learning Curve - Area under the curve vs. Percent of Dataset used for training')\n",
    "plt.show()\n",
    "\n",
    "plt.figure()\n",
    "plt.plot(precentages, time_results, 'b', label=\"Train Accuracy\")\n",
    "plt.ylabel('Time (s)')\n",
    "plt.xlabel('Percent of Dataset used for Training')\n",
    "plt.title('Decision Tree Learning Curve - Computation Time vs. Percent of Dataset used for training')\n",
    "plt.show()"
   ]
  },
  {
   "cell_type": "code",
   "execution_count": null,
   "metadata": {},
   "outputs": [],
   "source": [
    "# Learning curve based off of number of Samples in training set\n",
    "depths = np.linspace(1, 32, 32, endpoint=True)\n",
    "train_results = []\n",
    "test_results = []\n",
    "train_auc_results = []\n",
    "test_auc_results = []\n",
    "X_train, X_test, y_train, y_test = train_test_split(xdata, ydata, test_size=.3, random_state=101)\n",
    "for depth in depths:\n",
    "    start_time = timeit.default_timer()\n",
    "    test_acc = decision_tree(X_train, X_test, y_train, y_test, max_depth=depth)\n",
    "    elapsed = timeit.default_timer() - start_time\n",
    "    print('This \"{name}\" took {time} seconds to complete.'.format(name='decision tree', time=elapsed))\n",
    "    test_results.append(test_acc)\n",
    "    test_auc_results.append(decision_tree_auc(X_train, X_test, y_train, y_test, max_depth=depth))\n",
    "    \n",
    "    train_results.append(decision_tree(X_train, X_train, y_train, y_train, max_depth=depth))\n",
    "    train_auc_results.append(decision_tree_auc(X_train, X_train, y_train, y_train, max_depth=depth))\n",
    "\n",
    "line1, = plt.plot(depths, train_auc_results, 'b', label=\"Train Accuracy\")\n",
    "line2, = plt.plot(depths, test_auc_results, 'r', label=\"Test Accuracy\")\n",
    "plt.ylabel('Accuracy')\n",
    "plt.xlabel('Max_depth')\n",
    "plt.show()"
   ]
  },
  {
   "cell_type": "code",
   "execution_count": null,
   "metadata": {},
   "outputs": [],
   "source": []
  },
  {
   "cell_type": "markdown",
   "metadata": {},
   "source": [
    "#### - Neural Network"
   ]
  },
  {
   "cell_type": "code",
   "execution_count": 64,
   "metadata": {},
   "outputs": [
    {
     "data": {
      "image/png": "[encoded data removed]",
      "text/plain": [
       "<Figure size 432x288 with 1 Axes>"
      ]
     },
     "metadata": {
      "needs_background": "light"
     },
     "output_type": "display_data"
    }
   ],
   "source": [
    "from sklearn.neural_network import MLPClassifier\n",
    "hidden_layer_sizes = [20,40,60,80,100,120,140,160,180,200,400]\n",
    "X_train, X_test, y_train, y_test = train_test_split(xdata, ydata, test_size=.3, random_state=101)\n",
    "results = []\n",
    "for hidden_layer_size in hidden_layer_sizes:\n",
    "    NN = MLPClassifier(solver='lbfgs', alpha=1e-5, hidden_layer_sizes=(hidden_layer_size,), random_state=1)\n",
    "    NN.fit(X_train, y_train)\n",
    "\n",
    "    y_pred = NN.predict(X_test)\n",
    "    results.append(accuracy_score(y_test, y_pred))\n",
    "    \n",
    "plt.figure(0)\n",
    "plt.plot(hidden_layer_sizes, results, 'b')\n",
    "plt.ylabel('Accuracy')\n",
    "plt.xlabel('Number of Hidden Layers')\n",
    "plt.title('Neural Network Learning Curve - Accuracy vs. Number of Hidden Layers')\n",
    "plt.legend([\"Train Accuracy\",\"Test Accuracy\"])\n",
    "plt.show()"
   ]
  },
  {
   "cell_type": "code",
   "execution_count": 65,
   "metadata": {},
   "outputs": [
    {
     "data": {
      "image/png": "[encoded data removed]",
      "text/plain": [
       "<Figure size 432x288 with 1 Axes>"
      ]
     },
     "metadata": {
      "needs_background": "light"
     },
     "output_type": "display_data"
    }
   ],
   "source": [
    "test_percentages = [.1,.2,.3,.4,.5,.6,.7,.8,.9]\n",
    "train_percentages = [.9,.8,.7,.6,.5,.4,.3,.2,.1]\n",
    "results = []\n",
    "for percent in test_percentages:\n",
    "    X_train, X_test, y_train, y_test = train_test_split(xdata, ydata, test_size=percent, random_state=101)\n",
    "\n",
    "    NN = MLPClassifier(solver='lbfgs', alpha=1e-5, hidden_layer_sizes=(40,), random_state=1)\n",
    "    NN.fit(X_train, y_train)\n",
    "\n",
    "    y_pred = NN.predict(X_test)\n",
    "    results.append(accuracy_score(y_test, y_pred))\n",
    "    \n",
    "plt.figure(0)\n",
    "plt.plot(train_percentages, results, 'b')\n",
    "plt.ylabel('Accuracy')\n",
    "plt.xlabel('Percent of Dataset used for Training')\n",
    "plt.title('Neural Network Learning Curve - Accuracy vs. Percent of Dataset used for training')\n",
    "plt.legend([\"Train Accuracy\",\"Test Accuracy\"])\n",
    "plt.show()"
   ]
  },
  {
   "cell_type": "code",
   "execution_count": 61,
   "metadata": {},
   "outputs": [
    {
     "name": "stdout",
     "output_type": "stream",
     "text": [
      "[[1141  418]\n",
      " [ 294 1245]]\n",
      "             precision    recall  f1-score   support\n",
      "\n",
      "          0       0.80      0.73      0.76      1559\n",
      "          1       0.75      0.81      0.78      1539\n",
      "\n",
      "avg / total       0.77      0.77      0.77      3098\n",
      "\n",
      "Overall Accuracy =  0.7701743060038735\n"
     ]
    }
   ],
   "source": [
    "print(confusion_matrix(y_test, y_pred))  \n",
    "print(classification_report(y_test, y_pred))\n",
    "print('Overall Accuracy = ', accuracy_score(y_test, y_pred))"
   ]
  },
  {
   "cell_type": "markdown",
   "metadata": {},
   "source": [
    "#### - Boosting"
   ]
  },
  {
   "cell_type": "code",
   "execution_count": 68,
   "metadata": {},
   "outputs": [],
   "source": [
    "from sklearn.ensemble import GradientBoostingClassifier\n",
    "gb = GradientBoostingClassifier(n_estimators=100, max_depth = 5, random_state = 0)\n",
    "gb.fit(X_train, y_train)\n",
    "\n",
    "y_pred = gb.predict(X_test)"
   ]
  },
  {
   "cell_type": "code",
   "execution_count": 69,
   "metadata": {},
   "outputs": [
    {
     "name": "stdout",
     "output_type": "stream",
     "text": [
      "[[1403  143]\n",
      " [ 280  287]]\n",
      "             precision    recall  f1-score   support\n",
      "\n",
      "          0       0.83      0.91      0.87      1546\n",
      "          1       0.67      0.51      0.58       567\n",
      "\n",
      "avg / total       0.79      0.80      0.79      2113\n",
      "\n",
      "Overall Accuracy =  0.7998106956933271\n"
     ]
    }
   ],
   "source": [
    "print(confusion_matrix(y_test, y_pred))  \n",
    "print(classification_report(y_test, y_pred))\n",
    "print('Overall Accuracy = ', accuracy_score(y_test, y_pred))"
   ]
  },
  {
   "cell_type": "markdown",
   "metadata": {},
   "source": [
    "#### - Support Vector Machine"
   ]
  },
  {
   "cell_type": "code",
   "execution_count": 64,
   "metadata": {},
   "outputs": [],
   "source": [
    "from sklearn.svm import SVC\n",
    "svm = SVC(kernel='linear') \n",
    "svm.fit(X_train,y_train)\n",
    "\n",
    "preds = svm.predict(X_test)"
   ]
  },
  {
   "cell_type": "code",
   "execution_count": 65,
   "metadata": {},
   "outputs": [
    {
     "name": "stdout",
     "output_type": "stream",
     "text": [
      "[[1317  229]\n",
      " [ 293  274]]\n",
      "             precision    recall  f1-score   support\n",
      "\n",
      "          0       0.82      0.85      0.83      1546\n",
      "          1       0.54      0.48      0.51       567\n",
      "\n",
      "avg / total       0.74      0.75      0.75      2113\n",
      "\n",
      "Overall Accuracy =  0.7529578797917653\n"
     ]
    }
   ],
   "source": [
    "print(confusion_matrix(y_test, y_pred))  \n",
    "print(classification_report(y_test, y_pred))\n",
    "print('Overall Accuracy = ', accuracy_score(y_test, y_pred))"
   ]
  },
  {
   "cell_type": "markdown",
   "metadata": {},
   "source": [
    "#### -  K-NN"
   ]
  },
  {
   "cell_type": "code",
   "execution_count": 61,
   "metadata": {},
   "outputs": [],
   "source": [
    "from sklearn.neighbors import KNeighborsClassifier\n",
    "knn = KNeighborsClassifier(n_neighbors=5)\n",
    "knn.fit(X_train, y_train)\n",
    "\n",
    "y_pred = knn.predict(X_test)"
   ]
  },
  {
   "cell_type": "code",
   "execution_count": 62,
   "metadata": {},
   "outputs": [
    {
     "name": "stdout",
     "output_type": "stream",
     "text": [
      "[[1317  229]\n",
      " [ 293  274]]\n",
      "             precision    recall  f1-score   support\n",
      "\n",
      "          0       0.82      0.85      0.83      1546\n",
      "          1       0.54      0.48      0.51       567\n",
      "\n",
      "avg / total       0.74      0.75      0.75      2113\n",
      "\n",
      "Overall Accuracy =  0.7529578797917653\n"
     ]
    }
   ],
   "source": [
    "print(confusion_matrix(y_test, y_pred))  \n",
    "print(classification_report(y_test, y_pred))\n",
    "print('Overall Accuracy = ', accuracy_score(y_test, y_pred))"
   ]
  },
  {
   "cell_type": "code",
   "execution_count": null,
   "metadata": {},
   "outputs": [],
   "source": []
  }
 ],
 "metadata": {
  "kernelspec": {
   "display_name": "Python 3",
   "language": "python",
   "name": "python3"
  },
  "language_info": {
   "codemirror_mode": {
    "name": "ipython",
    "version": 3
   },
   "file_extension": ".py",
   "mimetype": "text/x-python",
   "name": "python",
   "nbconvert_exporter": "python",
   "pygments_lexer": "ipython3",
   "version": "3.6.5"
  }
 },
 "nbformat": 4,
 "nbformat_minor": 2
}
